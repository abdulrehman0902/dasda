{
 "cells": [
  {
   "cell_type": "code",
   "execution_count": null,
   "id": "09b035d1",
   "metadata": {},
   "outputs": [],
   "source": [
    "#task 1\n",
    "balance=0\n",
    "bill=int(input(\"Billing amount : \"))\n",
    "payment=int(input(\"Paid amount : \"))\n",
    "\n",
    "if payment==bill:\n",
    "    if ((bill*10)/100) < 10:\n",
    "        print(\"Total bill : $\"+str(bill)+ \"Amount paid : $\"+str(payment)+ \"Balance : $\"+str(balance)+ \"Credit : $\"+str((bill*10)/100))\n",
    "    else:\n",
    "        print(\"Total bill : $\"+str(bill)+ \"Amount paid : $\"+str(payment)+ \"Balance : $\"+str(balance)+ \"Credit : $\"+str(10))\n",
    "\n",
    "if payment>bill:\n",
    "    credit=payment-bill\n",
    "else:\n",
    "    balance=bill-payment\n",
    "\n",
    "if payment>=((bill*50)/100) and payment!=bill:\n",
    "    penalty=(balance*5)/100\n",
    "    print(\"You paid 50% of the bill...\\nTotal Bill : $\"+str(bill)+ \"\\nAmount paid : $\"+str(payment)+ \"\\nBalance : $\"+str(balance)+ \"\\nPenalty : $\"+str(penalty))\n",
    "    \n",
    "if payment<((bill*50)/100) and payment>=((bill*20)/100):\n",
    "    penalty=(balance*10)/100\n",
    "    print(\"You paid less than 50% of the bill...\\nTotal Bill : $\"+str(bill)+ \"\\nAmount paid : $\"+str(payment)+ \"\\nBalance : $\"+str(balance)+ \"\\nPenalty : $\"+str(penalty))\n",
    "    \n",
    "if payment<((bill*20)/100):\n",
    "    penalty=(balance*20)/100\n",
    "    print(\"You paid less than 20% of the bill...\\nTotal Bill : $\"+str(bill)+ \"\\nAmount paid : $\"+str(payment)+ \"\\nBalance : $\"+str(balance)+ \"\\nPenalty : $\"+str(penalty))\n",
    "            \n",
    "    \n"
   ]
  },
  {
   "cell_type": "code",
   "execution_count": null,
   "id": "09dcb03f",
   "metadata": {},
   "outputs": [],
   "source": [
    "#task 2\n",
    "list=[5,20,15,20,25,50,20]\n",
    "for x in list:\n",
    "    if x==20:\n",
    "        list.remove(x)\n",
    "print(list)        "
   ]
  },
  {
   "cell_type": "code",
   "execution_count": null,
   "id": "73a61e18",
   "metadata": {},
   "outputs": [],
   "source": [
    "#task 3 \n",
    "list=[5,20,15,20,25,50,20]\n",
    "list[1]=200\n",
    "print(list)        \n"
   ]
  },
  {
   "cell_type": "code",
   "execution_count": null,
   "id": "eeca390e",
   "metadata": {},
   "outputs": [],
   "source": [
    "tuple=(1,2,3,5,1,6)\n",
    "for x in tuple:\n",
    "    for y in tuple:\n",
    "        if x==y:\n",
    "            continue\n",
    "        else:\n",
    "            print(\"NOT SAME\")\n",
    "            break\n",
    "    break\n",
    "print(tuple)        "
   ]
  },
  {
   "cell_type": "code",
   "execution_count": 8,
   "id": "0a1ab984",
   "metadata": {},
   "outputs": [
    {
     "name": "stdout",
     "output_type": "stream",
     "text": [
      "\n",
      "\n",
      "1 2 3 abdul rehman 6 7 abdul 9 rehman \n",
      "\n",
      "11 abdul 13 14 rehman abdul 17 18 19 200363\n",
      "\n",
      "\n",
      "21 22 23 abdul rehman 26 27 abdul 29 rehman \n",
      "\n",
      "31 abdul 33 34 rehman abdul 37 38 39 200363\n"
     ]
    }
   ],
   "source": [
    "line=0\n",
    "for i in range(1,41):\n",
    "    if(line%10==0):\n",
    "        print(\"\\n\")\n",
    "    line=line+1\n",
    "    if i%4==0 and i%5==0:\n",
    "        print(\"200363\")\n",
    "    elif i%4==0:\n",
    "        print(\"abdul\",end=\" \")\n",
    "    elif i%5==0:\n",
    "        print(\"rehman\",end=\" \")\n",
    "    else:\n",
    "        print(i,end=\" \")"
   ]
  },
  {
   "cell_type": "code",
   "execution_count": null,
   "id": "a105dd1f",
   "metadata": {},
   "outputs": [],
   "source": []
  }
 ],
 "metadata": {
  "kernelspec": {
   "display_name": "Python 3 (ipykernel)",
   "language": "python",
   "name": "python3"
  },
  "language_info": {
   "codemirror_mode": {
    "name": "ipython",
    "version": 3
   },
   "file_extension": ".py",
   "mimetype": "text/x-python",
   "name": "python",
   "nbconvert_exporter": "python",
   "pygments_lexer": "ipython3",
   "version": "3.9.7"
  }
 },
 "nbformat": 4,
 "nbformat_minor": 5
}
